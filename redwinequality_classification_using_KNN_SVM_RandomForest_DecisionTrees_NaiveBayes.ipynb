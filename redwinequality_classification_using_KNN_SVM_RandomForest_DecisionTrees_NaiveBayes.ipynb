{
 "cells": [
  {
   "cell_type": "code",
   "execution_count": 9,
   "metadata": {},
   "outputs": [
    {
     "data": {
      "text/html": [
       "<div>\n",
       "<style scoped>\n",
       "    .dataframe tbody tr th:only-of-type {\n",
       "        vertical-align: middle;\n",
       "    }\n",
       "\n",
       "    .dataframe tbody tr th {\n",
       "        vertical-align: top;\n",
       "    }\n",
       "\n",
       "    .dataframe thead th {\n",
       "        text-align: right;\n",
       "    }\n",
       "</style>\n",
       "<table border=\"1\" class=\"dataframe\">\n",
       "  <thead>\n",
       "    <tr style=\"text-align: right;\">\n",
       "      <th></th>\n",
       "      <th>fixed acidity</th>\n",
       "      <th>volatile acidity</th>\n",
       "      <th>citric acid</th>\n",
       "      <th>residual sugar</th>\n",
       "      <th>chlorides</th>\n",
       "      <th>free sulfur dioxide</th>\n",
       "      <th>total sulfur dioxide</th>\n",
       "      <th>density</th>\n",
       "      <th>pH</th>\n",
       "      <th>sulphates</th>\n",
       "      <th>alcohol</th>\n",
       "      <th>quality</th>\n",
       "    </tr>\n",
       "  </thead>\n",
       "  <tbody>\n",
       "    <tr>\n",
       "      <th>0</th>\n",
       "      <td>7.4</td>\n",
       "      <td>0.70</td>\n",
       "      <td>0.00</td>\n",
       "      <td>1.9</td>\n",
       "      <td>0.076</td>\n",
       "      <td>11.0</td>\n",
       "      <td>34.0</td>\n",
       "      <td>0.9978</td>\n",
       "      <td>3.51</td>\n",
       "      <td>0.56</td>\n",
       "      <td>9.4</td>\n",
       "      <td>5</td>\n",
       "    </tr>\n",
       "    <tr>\n",
       "      <th>1</th>\n",
       "      <td>7.8</td>\n",
       "      <td>0.88</td>\n",
       "      <td>0.00</td>\n",
       "      <td>2.6</td>\n",
       "      <td>0.098</td>\n",
       "      <td>25.0</td>\n",
       "      <td>67.0</td>\n",
       "      <td>0.9968</td>\n",
       "      <td>3.20</td>\n",
       "      <td>0.68</td>\n",
       "      <td>9.8</td>\n",
       "      <td>5</td>\n",
       "    </tr>\n",
       "    <tr>\n",
       "      <th>2</th>\n",
       "      <td>7.8</td>\n",
       "      <td>0.76</td>\n",
       "      <td>0.04</td>\n",
       "      <td>2.3</td>\n",
       "      <td>0.092</td>\n",
       "      <td>15.0</td>\n",
       "      <td>54.0</td>\n",
       "      <td>0.9970</td>\n",
       "      <td>3.26</td>\n",
       "      <td>0.65</td>\n",
       "      <td>9.8</td>\n",
       "      <td>5</td>\n",
       "    </tr>\n",
       "    <tr>\n",
       "      <th>3</th>\n",
       "      <td>11.2</td>\n",
       "      <td>0.28</td>\n",
       "      <td>0.56</td>\n",
       "      <td>1.9</td>\n",
       "      <td>0.075</td>\n",
       "      <td>17.0</td>\n",
       "      <td>60.0</td>\n",
       "      <td>0.9980</td>\n",
       "      <td>3.16</td>\n",
       "      <td>0.58</td>\n",
       "      <td>9.8</td>\n",
       "      <td>6</td>\n",
       "    </tr>\n",
       "    <tr>\n",
       "      <th>4</th>\n",
       "      <td>7.4</td>\n",
       "      <td>0.70</td>\n",
       "      <td>0.00</td>\n",
       "      <td>1.9</td>\n",
       "      <td>0.076</td>\n",
       "      <td>11.0</td>\n",
       "      <td>34.0</td>\n",
       "      <td>0.9978</td>\n",
       "      <td>3.51</td>\n",
       "      <td>0.56</td>\n",
       "      <td>9.4</td>\n",
       "      <td>5</td>\n",
       "    </tr>\n",
       "  </tbody>\n",
       "</table>\n",
       "</div>"
      ],
      "text/plain": [
       "   fixed acidity  volatile acidity  citric acid  residual sugar  chlorides  \\\n",
       "0            7.4              0.70         0.00             1.9      0.076   \n",
       "1            7.8              0.88         0.00             2.6      0.098   \n",
       "2            7.8              0.76         0.04             2.3      0.092   \n",
       "3           11.2              0.28         0.56             1.9      0.075   \n",
       "4            7.4              0.70         0.00             1.9      0.076   \n",
       "\n",
       "   free sulfur dioxide  total sulfur dioxide  density    pH  sulphates  \\\n",
       "0                 11.0                  34.0   0.9978  3.51       0.56   \n",
       "1                 25.0                  67.0   0.9968  3.20       0.68   \n",
       "2                 15.0                  54.0   0.9970  3.26       0.65   \n",
       "3                 17.0                  60.0   0.9980  3.16       0.58   \n",
       "4                 11.0                  34.0   0.9978  3.51       0.56   \n",
       "\n",
       "   alcohol  quality  \n",
       "0      9.4        5  \n",
       "1      9.8        5  \n",
       "2      9.8        5  \n",
       "3      9.8        6  \n",
       "4      9.4        5  "
      ]
     },
     "execution_count": 9,
     "metadata": {},
     "output_type": "execute_result"
    }
   ],
   "source": [
    "import matplotlib.pyplot as plt \n",
    "import pandas as pd \n",
    "import numpy as np \n",
    "import sklearn \n",
    "red = pd.read_csv(\"http://archive.ics.uci.edu/ml/machine-learning-databases/wine-quality/winequality-red.csv\", sep =';') \n",
    "red.head()"
   ]
  },
  {
   "cell_type": "code",
   "execution_count": 10,
   "metadata": {},
   "outputs": [],
   "source": [
    "#citric acid values were zero which technically can't be\n",
    "red=red.mask(red==0).fillna(red.mean())\n",
    "#mask converts 0 to NAN values and fillna its replaced by mean values"
   ]
  },
  {
   "cell_type": "code",
   "execution_count": 11,
   "metadata": {},
   "outputs": [
    {
     "name": "stdout",
     "output_type": "stream",
     "text": [
      "fixed acidity           float64\n",
      "volatile acidity        float64\n",
      "citric acid             float64\n",
      "residual sugar          float64\n",
      "chlorides               float64\n",
      "free sulfur dioxide     float64\n",
      "total sulfur dioxide    float64\n",
      "density                 float64\n",
      "pH                      float64\n",
      "sulphates               float64\n",
      "alcohol                 float64\n",
      "quality                   int64\n",
      "dtype: object\n"
     ]
    }
   ],
   "source": [
    "pd.isnull(red) \n",
    "print(red.dtypes)"
   ]
  },
  {
   "cell_type": "code",
   "execution_count": 12,
   "metadata": {},
   "outputs": [
    {
     "name": "stdout",
     "output_type": "stream",
     "text": [
      "[[-0.52835961  0.96187667 -0.12631512 ...  1.28864292 -0.57920652\n",
      "  -0.96024611]\n",
      " [-0.29854743  1.96744245 -0.12631512 ... -0.7199333   0.1289504\n",
      "  -0.58477711]\n",
      " [-0.29854743  1.29706527 -1.43057996 ... -0.33117661 -0.04808883\n",
      "  -0.58477711]\n",
      " ...\n",
      " [-1.1603431  -0.09955388 -0.92237117 ...  0.70550789  0.54204194\n",
      "   0.54162988]\n",
      " [-1.39015528  0.65462046 -0.97883881 ...  1.6773996   0.30598963\n",
      "  -0.20930812]\n",
      " [-1.33270223 -1.21684919  0.99752871 ...  0.51112954  0.01092425\n",
      "   0.54162988]]\n"
     ]
    }
   ],
   "source": [
    "from sklearn.model_selection import train_test_split\n",
    "y1=red[\"quality\"]\n",
    "y = np.asarray(y1)\n",
    "\n",
    "y=y.reshape(-1,1)\n",
    "red.drop([\"quality\"], axis = 1, inplace = True)\n",
    "x = np.asarray(red,dtype=np.float64)\n",
    "\n",
    "from sklearn.preprocessing import StandardScaler\n",
    "sc = StandardScaler()\n",
    "x = sc.fit_transform(x)\n",
    "print(x)"
   ]
  },
  {
   "cell_type": "code",
   "execution_count": 13,
   "metadata": {},
   "outputs": [],
   "source": [
    "x_train, x_test, y_train, y_test = train_test_split(x, y, test_size=0.2, random_state=0)"
   ]
  },
  {
   "cell_type": "code",
   "execution_count": 14,
   "metadata": {},
   "outputs": [],
   "source": [
    "#using KNN classifier"
   ]
  },
  {
   "cell_type": "code",
   "execution_count": 15,
   "metadata": {},
   "outputs": [
    {
     "name": "stderr",
     "output_type": "stream",
     "text": [
      "/home/sagar24/.local/lib/python2.7/site-packages/ipykernel_launcher.py:8: DataConversionWarning: A column-vector y was passed when a 1d array was expected. Please change the shape of y to (n_samples, ), for example using ravel().\n",
      "  \n"
     ]
    },
    {
     "name": "stdout",
     "output_type": "stream",
     "text": [
      "('Accuracy:', 3, '  ', 0.596875)\n",
      "('Accuracy:', 4, '  ', 0.5875)\n",
      "('Accuracy:', 5, '  ', 0.5875)\n",
      "('Accuracy:', 6, '  ', 0.5875)\n",
      "('Accuracy:', 7, '  ', 0.578125)\n",
      "('Accuracy:', 8, '  ', 0.584375)\n",
      "('Accuracy:', 9, '  ', 0.571875)\n",
      "('Accuracy:', 10, '  ', 0.55625)\n",
      "('Accuracy:', 11, '  ', 0.5625)\n",
      "('Accuracy:', 12, '  ', 0.553125)\n",
      "('Accuracy:', 13, '  ', 0.559375)\n",
      "('Accuracy:', 14, '  ', 0.55625)\n",
      "('Accuracy:', 15, '  ', 0.55)\n",
      "('Accuracy:', 16, '  ', 0.571875)\n",
      "('Accuracy:', 17, '  ', 0.571875)\n",
      "('Accuracy:', 18, '  ', 0.5625)\n",
      "('Accuracy:', 19, '  ', 0.559375)\n",
      "('Accuracy:', 20, '  ', 0.575)\n",
      "('Accuracy:', 21, '  ', 0.58125)\n",
      "('Accuracy:', 22, '  ', 0.584375)\n",
      "('Accuracy:', 23, '  ', 0.584375)\n",
      "('Accuracy:', 24, '  ', 0.578125)\n",
      "('Accuracy:', 25, '  ', 0.584375)\n",
      "('Accuracy:', 26, '  ', 0.571875)\n",
      "('Accuracy:', 27, '  ', 0.58125)\n",
      "('Accuracy:', 28, '  ', 0.571875)\n",
      "('Accuracy:', 29, '  ', 0.5875)\n",
      "('Accuracy:', 30, '  ', 0.58125)\n",
      "('Accuracy:', 31, '  ', 0.571875)\n",
      "('Accuracy:', 32, '  ', 0.58125)\n",
      "('Accuracy:', 33, '  ', 0.578125)\n",
      "('Accuracy:', 34, '  ', 0.58125)\n",
      "('Accuracy:', 35, '  ', 0.58125)\n",
      "('Accuracy:', 36, '  ', 0.590625)\n",
      "('Accuracy:', 37, '  ', 0.58125)\n",
      "('Accuracy:', 38, '  ', 0.5875)\n",
      "('Accuracy:', 39, '  ', 0.5875)\n",
      "('Accuracy:', 40, '  ', 0.596875)\n",
      "('Accuracy:', 41, '  ', 0.6)\n",
      "('Accuracy:', 42, '  ', 0.590625)\n",
      "('Accuracy:', 43, '  ', 0.59375)\n",
      "('Accuracy:', 44, '  ', 0.596875)\n",
      "('Accuracy:', 45, '  ', 0.603125)\n",
      "('Accuracy:', 46, '  ', 0.60625)\n",
      "('Accuracy:', 47, '  ', 0.60625)\n",
      "('Accuracy:', 48, '  ', 0.5875)\n",
      "('Accuracy:', 49, '  ', 0.578125)\n",
      "('Accuracy:', 50, '  ', 0.584375)\n",
      "('Accuracy:', 51, '  ', 0.584375)\n",
      "('Accuracy:', 52, '  ', 0.590625)\n",
      "('Accuracy:', 53, '  ', 0.584375)\n",
      "('Accuracy:', 54, '  ', 0.584375)\n",
      "('Accuracy:', 55, '  ', 0.584375)\n",
      "('Accuracy:', 56, '  ', 0.58125)\n",
      "('Accuracy:', 57, '  ', 0.590625)\n",
      "('Accuracy:', 58, '  ', 0.59375)\n",
      "('Accuracy:', 59, '  ', 0.603125)\n",
      "('Accuracy:', 60, '  ', 0.609375)\n",
      "('Accuracy:', 61, '  ', 0.603125)\n",
      "('Accuracy:', 62, '  ', 0.59375)\n",
      "('Accuracy:', 63, '  ', 0.59375)\n",
      "('Accuracy:', 64, '  ', 0.590625)\n",
      "('Accuracy:', 65, '  ', 0.6)\n",
      "('Accuracy:', 66, '  ', 0.596875)\n",
      "('Accuracy:', 67, '  ', 0.603125)\n",
      "('Accuracy:', 68, '  ', 0.596875)\n",
      "('Accuracy:', 69, '  ', 0.6)\n",
      "('Accuracy:', 70, '  ', 0.603125)\n",
      "('Accuracy:', 71, '  ', 0.609375)\n",
      "('Accuracy:', 72, '  ', 0.615625)\n",
      "('Accuracy:', 73, '  ', 0.6125)\n",
      "('Accuracy:', 74, '  ', 0.615625)\n",
      "('Accuracy:', 75, '  ', 0.6125)\n",
      "('Accuracy:', 76, '  ', 0.60625)\n",
      "('Accuracy:', 77, '  ', 0.609375)\n",
      "('Accuracy:', 78, '  ', 0.609375)\n",
      "('Accuracy:', 79, '  ', 0.6125)\n",
      "('Accuracy:', 80, '  ', 0.609375)\n",
      "('Accuracy:', 81, '  ', 0.6125)\n",
      "('Accuracy:', 82, '  ', 0.609375)\n",
      "('Accuracy:', 83, '  ', 0.609375)\n",
      "('Accuracy:', 84, '  ', 0.596875)\n",
      "('Accuracy:', 85, '  ', 0.615625)\n",
      "('Accuracy:', 86, '  ', 0.615625)\n",
      "('Accuracy:', 87, '  ', 0.61875)\n",
      "('Accuracy:', 88, '  ', 0.621875)\n",
      "('Accuracy:', 89, '  ', 0.615625)\n",
      "('Accuracy:', 90, '  ', 0.615625)\n",
      "('Accuracy:', 91, '  ', 0.6125)\n",
      "('Accuracy:', 92, '  ', 0.609375)\n",
      "('Accuracy:', 93, '  ', 0.6)\n",
      "('Accuracy:', 94, '  ', 0.603125)\n",
      "('Accuracy:', 95, '  ', 0.596875)\n",
      "('Accuracy:', 96, '  ', 0.6)\n",
      "('Accuracy:', 97, '  ', 0.60625)\n",
      "('Accuracy:', 98, '  ', 0.603125)\n",
      "('Accuracy:', 99, '  ', 0.60625)\n"
     ]
    },
    {
     "data": {
      "image/png": "[encoded data removed]",
      "text/plain": [
       "<Figure size 432x288 with 1 Axes>"
      ]
     },
     "metadata": {
      "needs_background": "light"
     },
     "output_type": "display_data"
    },
    {
     "name": "stdout",
     "output_type": "stream",
     "text": [
      "88\n"
     ]
    }
   ],
   "source": [
    "from sklearn.neighbors import KNeighborsClassifier\n",
    "from sklearn import metrics\n",
    "import matplotlib.pyplot as plt\n",
    "accuracy=0\n",
    "n=3\n",
    "for i in range (3,100):\n",
    "    classifier = KNeighborsClassifier(n_neighbors=i)\n",
    "    classifier.fit(x_train, y_train)\n",
    "    y_pred1 = classifier.predict(x_test)\n",
    "    print(\"Accuracy:\",i,\"  \",metrics.accuracy_score(y_test,y_pred1))\n",
    "    if metrics.accuracy_score(y_test,y_pred1)>accuracy:\n",
    "        accuracy=metrics.accuracy_score(y_test,y_pred1)\n",
    "        n=i\n",
    "    plt.plot(i,metrics.accuracy_score(y_test,y_pred1),marker='o', color='mediumvioletred')\n",
    "plt.show()\n",
    "print(n)"
   ]
  },
  {
   "cell_type": "code",
   "execution_count": 16,
   "metadata": {},
   "outputs": [
    {
     "name": "stdout",
     "output_type": "stream",
     "text": [
      "('Accuracy:', 62.18749999999999)\n"
     ]
    },
    {
     "name": "stderr",
     "output_type": "stream",
     "text": [
      "/home/sagar24/.local/lib/python2.7/site-packages/ipykernel_launcher.py:2: DataConversionWarning: A column-vector y was passed when a 1d array was expected. Please change the shape of y to (n_samples, ), for example using ravel().\n",
      "  \n"
     ]
    }
   ],
   "source": [
    "classifier = KNeighborsClassifier(n_neighbors=n)\n",
    "classifier.fit(x_train, y_train)\n",
    "y_pred1 = classifier.predict(x_test)\n",
    "print(\"Accuracy:\",100*metrics.accuracy_score(y_test,y_pred1))"
   ]
  },
  {
   "cell_type": "code",
   "execution_count": 17,
   "metadata": {
    "scrolled": true
   },
   "outputs": [
    {
     "name": "stdout",
     "output_type": "stream",
     "text": [
      "[[ 0  0  2  0  0  0]\n",
      " [ 0  0  7  4  0  0]\n",
      " [ 0  0 99 36  0  0]\n",
      " [ 0  0 43 94  5  0]\n",
      " [ 0  0  1 20  6  0]\n",
      " [ 0  0  0  1  2  0]]\n"
     ]
    }
   ],
   "source": [
    "from sklearn.metrics import confusion_matrix\n",
    "print(confusion_matrix(y_test,y_pred1))"
   ]
  },
  {
   "cell_type": "code",
   "execution_count": 18,
   "metadata": {},
   "outputs": [],
   "source": [
    "#using decision trees"
   ]
  },
  {
   "cell_type": "code",
   "execution_count": 19,
   "metadata": {},
   "outputs": [
    {
     "name": "stdout",
     "output_type": "stream",
     "text": [
      "('Accuracy:', 65.0)\n",
      "[[ 0  0  1  1  0  0]\n",
      " [ 0  3  4  4  0  0]\n",
      " [ 2  2 98 30  3  0]\n",
      " [ 1  4 30 92 14  1]\n",
      " [ 0  0  1  6 15  5]\n",
      " [ 0  0  0  1  2  0]]\n"
     ]
    }
   ],
   "source": [
    "from sklearn.tree import DecisionTreeClassifier\n",
    "dt = DecisionTreeClassifier()\n",
    "dt.fit(x_train,y_train)\n",
    "y_pred2 = dt.predict(x_test)\n",
    "print(\"Accuracy:\",100*metrics.accuracy_score(y_test,y_pred2))\n",
    "print(confusion_matrix(y_test,y_pred2))"
   ]
  },
  {
   "cell_type": "code",
   "execution_count": 20,
   "metadata": {},
   "outputs": [],
   "source": [
    "#using random forest"
   ]
  },
  {
   "cell_type": "code",
   "execution_count": 21,
   "metadata": {},
   "outputs": [
    {
     "name": "stdout",
     "output_type": "stream",
     "text": [
      "('Accuracy:', 66.875)\n",
      "[[  0   0   0   2   0   0]\n",
      " [  0   0   6   4   1   0]\n",
      " [  0   1 108  24   2   0]\n",
      " [  0   0  36  93  13   0]\n",
      " [  0   0   1  11  13   2]\n",
      " [  0   0   0   1   2   0]]\n"
     ]
    },
    {
     "name": "stderr",
     "output_type": "stream",
     "text": [
      "/usr/local/lib/python2.7/dist-packages/sklearn/ensemble/forest.py:246: FutureWarning: The default value of n_estimators will change from 10 in version 0.20 to 100 in 0.22.\n",
      "  \"10 in version 0.20 to 100 in 0.22.\", FutureWarning)\n",
      "/home/sagar24/.local/lib/python2.7/site-packages/ipykernel_launcher.py:3: DataConversionWarning: A column-vector y was passed when a 1d array was expected. Please change the shape of y to (n_samples,), for example using ravel().\n",
      "  This is separate from the ipykernel package so we can avoid doing imports until\n"
     ]
    }
   ],
   "source": [
    "from sklearn.ensemble import RandomForestClassifier\n",
    "rf = RandomForestClassifier()\n",
    "rf.fit(x_train, y_train)\n",
    "y_pred3=rf.predict(x_test)\n",
    "print(\"Accuracy:\",100*metrics.accuracy_score(y_test,y_pred3))\n",
    "print(confusion_matrix(y_test,y_pred3))"
   ]
  },
  {
   "cell_type": "code",
   "execution_count": 22,
   "metadata": {},
   "outputs": [],
   "source": [
    "#using SVM classifier"
   ]
  },
  {
   "cell_type": "code",
   "execution_count": 23,
   "metadata": {},
   "outputs": [
    {
     "name": "stdout",
     "output_type": "stream",
     "text": [
      "('Accuracy:', 62.81250000000001)\n",
      "[[  0   0   1   1   0   0]\n",
      " [  0   0   8   3   0   0]\n",
      " [  0   0 100  35   0   0]\n",
      " [  0   0  42  93   7   0]\n",
      " [  0   0   1  18   8   0]\n",
      " [  0   0   0   1   2   0]]\n"
     ]
    }
   ],
   "source": [
    "from sklearn import svm\n",
    "clf=svm.SVC()\n",
    "clf.fit(x_train, y_train)\n",
    "y_pred4 = clf.predict(x_test)\n",
    "print(\"Accuracy:\",100*metrics.accuracy_score(y_test,y_pred4))\n",
    "print(confusion_matrix(y_test,y_pred4))"
   ]
  },
  {
   "cell_type": "code",
   "execution_count": 24,
   "metadata": {},
   "outputs": [],
   "source": [
    "#using Naive Bayes"
   ]
  },
  {
   "cell_type": "code",
   "execution_count": 25,
   "metadata": {},
   "outputs": [
    {
     "name": "stdout",
     "output_type": "stream",
     "text": [
      "('Accuracy:', 54.6875)\n",
      "[[ 0  0  1  1  0  0]\n",
      " [ 0  0  7  3  0  1]\n",
      " [ 1  5 86 36  7  0]\n",
      " [ 0  2 31 76 27  6]\n",
      " [ 1  0  0  9 13  4]\n",
      " [ 0  0  0  0  3  0]]\n"
     ]
    }
   ],
   "source": [
    "from sklearn.naive_bayes import GaussianNB\n",
    "nb = GaussianNB()\n",
    "nb.fit(x_train,y_train)\n",
    "y_pred5=nb.predict(x_test)\n",
    "print(\"Accuracy:\",100*metrics.accuracy_score(y_test,y_pred5))\n",
    "print(confusion_matrix(y_test,y_pred5))"
   ]
  },
  {
   "cell_type": "code",
   "execution_count": null,
   "metadata": {},
   "outputs": [],
   "source": []
  }
 ],
 "metadata": {
  "kernelspec": {
   "display_name": "Python 2",
   "language": "python",
   "name": "python2"
  },
  "language_info": {
   "codemirror_mode": {
    "name": "ipython",
    "version": 2
   },
   "file_extension": ".py",
   "mimetype": "text/x-python",
   "name": "python",
   "nbconvert_exporter": "python",
   "pygments_lexer": "ipython2",
   "version": "2.7.15+"
  }
 },
 "nbformat": 4,
 "nbformat_minor": 2
}
