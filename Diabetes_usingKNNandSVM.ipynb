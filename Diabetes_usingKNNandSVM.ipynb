{
 "cells": [
  {
   "cell_type": "code",
   "execution_count": 29,
   "metadata": {},
   "outputs": [],
   "source": [
    "import numpy as np\n",
    "import pandas as pd\n",
    "import os\n",
    "from sklearn import neighbors\n",
    "import math\n",
    "import matplotlib.pyplot as plt\n",
    "from numpy.linalg import inv\n",
    "from statistics import mean\n",
    "import seaborn as sns\n",
    "\n",
    "\n",
    "data = pd.read_csv(r\"C:\\Users\\Dell\\Desktop\\titanic\\diabetes.csv\")\n",
    "\n",
    "#note an extra r is put to input data to avoid unicode error in byte 2 and 3\n"
   ]
  },
  {
   "cell_type": "code",
   "execution_count": 30,
   "metadata": {},
   "outputs": [
    {
     "name": "stderr",
     "output_type": "stream",
     "text": [
      "C:\\Users\\Dell\\Anaconda3\\lib\\site-packages\\ipykernel_launcher.py:4: SettingWithCopyWarning: \n",
      "A value is trying to be set on a copy of a slice from a DataFrame\n",
      "\n",
      "See the caveats in the documentation: http://pandas.pydata.org/pandas-docs/stable/indexing.html#indexing-view-versus-copy\n",
      "  after removing the cwd from sys.path.\n",
      "C:\\Users\\Dell\\Anaconda3\\lib\\site-packages\\ipykernel_launcher.py:7: SettingWithCopyWarning: \n",
      "A value is trying to be set on a copy of a slice from a DataFrame\n",
      "\n",
      "See the caveats in the documentation: http://pandas.pydata.org/pandas-docs/stable/indexing.html#indexing-view-versus-copy\n",
      "  import sys\n",
      "C:\\Users\\Dell\\Anaconda3\\lib\\site-packages\\ipykernel_launcher.py:10: SettingWithCopyWarning: \n",
      "A value is trying to be set on a copy of a slice from a DataFrame\n",
      "\n",
      "See the caveats in the documentation: http://pandas.pydata.org/pandas-docs/stable/indexing.html#indexing-view-versus-copy\n",
      "  # Remove the CWD from sys.path while we load stuff.\n",
      "C:\\Users\\Dell\\Anaconda3\\lib\\site-packages\\ipykernel_launcher.py:13: SettingWithCopyWarning: \n",
      "A value is trying to be set on a copy of a slice from a DataFrame\n",
      "\n",
      "See the caveats in the documentation: http://pandas.pydata.org/pandas-docs/stable/indexing.html#indexing-view-versus-copy\n",
      "  del sys.path[0]\n"
     ]
    },
    {
     "name": "stdout",
     "output_type": "stream",
     "text": [
      "     Pregnancies  Glucose  BloodPressure  SkinThickness     Insulin  \\\n",
      "0              6    148.0      72.000000       35.00000  155.548223   \n",
      "1              1     85.0      66.000000       29.00000  155.548223   \n",
      "2              8    183.0      64.000000       29.15342  155.548223   \n",
      "3              1     89.0      66.000000       23.00000   94.000000   \n",
      "4              0    137.0      40.000000       35.00000  168.000000   \n",
      "5              5    116.0      74.000000       29.15342  155.548223   \n",
      "6              3     78.0      50.000000       32.00000   88.000000   \n",
      "7             10    115.0      72.405184       29.15342  155.548223   \n",
      "8              2    197.0      70.000000       45.00000  543.000000   \n",
      "9              8    125.0      96.000000       29.15342  155.548223   \n",
      "10             4    110.0      92.000000       29.15342  155.548223   \n",
      "11            10    168.0      74.000000       29.15342  155.548223   \n",
      "12            10    139.0      80.000000       29.15342  155.548223   \n",
      "13             1    189.0      60.000000       23.00000  846.000000   \n",
      "14             5    166.0      72.000000       19.00000  175.000000   \n",
      "15             7    100.0      72.405184       29.15342  155.548223   \n",
      "16             0    118.0      84.000000       47.00000  230.000000   \n",
      "17             7    107.0      74.000000       29.15342  155.548223   \n",
      "18             1    103.0      30.000000       38.00000   83.000000   \n",
      "19             1    115.0      70.000000       30.00000   96.000000   \n",
      "20             3    126.0      88.000000       41.00000  235.000000   \n",
      "21             8     99.0      84.000000       29.15342  155.548223   \n",
      "22             7    196.0      90.000000       29.15342  155.548223   \n",
      "23             9    119.0      80.000000       35.00000  155.548223   \n",
      "24            11    143.0      94.000000       33.00000  146.000000   \n",
      "25            10    125.0      70.000000       26.00000  115.000000   \n",
      "26             7    147.0      76.000000       29.15342  155.548223   \n",
      "27             1     97.0      66.000000       15.00000  140.000000   \n",
      "28            13    145.0      82.000000       19.00000  110.000000   \n",
      "29             5    117.0      92.000000       29.15342  155.548223   \n",
      "..           ...      ...            ...            ...         ...   \n",
      "738            2     99.0      60.000000       17.00000  160.000000   \n",
      "739            1    102.0      74.000000       29.15342  155.548223   \n",
      "740           11    120.0      80.000000       37.00000  150.000000   \n",
      "741            3    102.0      44.000000       20.00000   94.000000   \n",
      "742            1    109.0      58.000000       18.00000  116.000000   \n",
      "743            9    140.0      94.000000       29.15342  155.548223   \n",
      "744           13    153.0      88.000000       37.00000  140.000000   \n",
      "745           12    100.0      84.000000       33.00000  105.000000   \n",
      "746            1    147.0      94.000000       41.00000  155.548223   \n",
      "747            1     81.0      74.000000       41.00000   57.000000   \n",
      "748            3    187.0      70.000000       22.00000  200.000000   \n",
      "749            6    162.0      62.000000       29.15342  155.548223   \n",
      "750            4    136.0      70.000000       29.15342  155.548223   \n",
      "751            1    121.0      78.000000       39.00000   74.000000   \n",
      "752            3    108.0      62.000000       24.00000  155.548223   \n",
      "753            0    181.0      88.000000       44.00000  510.000000   \n",
      "754            8    154.0      78.000000       32.00000  155.548223   \n",
      "755            1    128.0      88.000000       39.00000  110.000000   \n",
      "756            7    137.0      90.000000       41.00000  155.548223   \n",
      "757            0    123.0      72.000000       29.15342  155.548223   \n",
      "758            1    106.0      76.000000       29.15342  155.548223   \n",
      "759            6    190.0      92.000000       29.15342  155.548223   \n",
      "760            2     88.0      58.000000       26.00000   16.000000   \n",
      "761            9    170.0      74.000000       31.00000  155.548223   \n",
      "762            9     89.0      62.000000       29.15342  155.548223   \n",
      "763           10    101.0      76.000000       48.00000  180.000000   \n",
      "764            2    122.0      70.000000       27.00000  155.548223   \n",
      "765            5    121.0      72.000000       23.00000  112.000000   \n",
      "766            1    126.0      60.000000       29.15342  155.548223   \n",
      "767            1     93.0      70.000000       31.00000  155.548223   \n",
      "\n",
      "           BMI  DiabetesPedigreeFunction  Age  Outcome  \n",
      "0    33.600000                     0.627   50        1  \n",
      "1    26.600000                     0.351   31        0  \n",
      "2    23.300000                     0.672   32        1  \n",
      "3    28.100000                     0.167   21        0  \n",
      "4    43.100000                     2.288   33        1  \n",
      "5    25.600000                     0.201   30        0  \n",
      "6    31.000000                     0.248   26        1  \n",
      "7    35.300000                     0.134   29        0  \n",
      "8    30.500000                     0.158   53        1  \n",
      "9    32.457464                     0.232   54        1  \n",
      "10   37.600000                     0.191   30        0  \n",
      "11   38.000000                     0.537   34        1  \n",
      "12   27.100000                     1.441   57        0  \n",
      "13   30.100000                     0.398   59        1  \n",
      "14   25.800000                     0.587   51        1  \n",
      "15   30.000000                     0.484   32        1  \n",
      "16   45.800000                     0.551   31        1  \n",
      "17   29.600000                     0.254   31        1  \n",
      "18   43.300000                     0.183   33        0  \n",
      "19   34.600000                     0.529   32        1  \n",
      "20   39.300000                     0.704   27        0  \n",
      "21   35.400000                     0.388   50        0  \n",
      "22   39.800000                     0.451   41        1  \n",
      "23   29.000000                     0.263   29        1  \n",
      "24   36.600000                     0.254   51        1  \n",
      "25   31.100000                     0.205   41        1  \n",
      "26   39.400000                     0.257   43        1  \n",
      "27   23.200000                     0.487   22        0  \n",
      "28   22.200000                     0.245   57        0  \n",
      "29   34.100000                     0.337   38        0  \n",
      "..         ...                       ...  ...      ...  \n",
      "738  36.600000                     0.453   21        0  \n",
      "739  39.500000                     0.293   42        1  \n",
      "740  42.300000                     0.785   48        1  \n",
      "741  30.800000                     0.400   26        0  \n",
      "742  28.500000                     0.219   22        0  \n",
      "743  32.700000                     0.734   45        1  \n",
      "744  40.600000                     1.174   39        0  \n",
      "745  30.000000                     0.488   46        0  \n",
      "746  49.300000                     0.358   27        1  \n",
      "747  46.300000                     1.096   32        0  \n",
      "748  36.400000                     0.408   36        1  \n",
      "749  24.300000                     0.178   50        1  \n",
      "750  31.200000                     1.182   22        1  \n",
      "751  39.000000                     0.261   28        0  \n",
      "752  26.000000                     0.223   25        0  \n",
      "753  43.300000                     0.222   26        1  \n",
      "754  32.400000                     0.443   45        1  \n",
      "755  36.500000                     1.057   37        1  \n",
      "756  32.000000                     0.391   39        0  \n",
      "757  36.300000                     0.258   52        1  \n",
      "758  37.500000                     0.197   26        0  \n",
      "759  35.500000                     0.278   66        1  \n",
      "760  28.400000                     0.766   22        0  \n",
      "761  44.000000                     0.403   43        1  \n",
      "762  22.500000                     0.142   33        0  \n",
      "763  32.900000                     0.171   63        0  \n",
      "764  36.800000                     0.340   27        0  \n",
      "765  26.200000                     0.245   30        0  \n",
      "766  30.100000                     0.349   47        1  \n",
      "767  30.400000                     0.315   23        0  \n",
      "\n",
      "[768 rows x 9 columns]\n"
     ]
    },
    {
     "name": "stderr",
     "output_type": "stream",
     "text": [
      "C:\\Users\\Dell\\Anaconda3\\lib\\site-packages\\ipykernel_launcher.py:17: SettingWithCopyWarning: \n",
      "A value is trying to be set on a copy of a slice from a DataFrame\n",
      "\n",
      "See the caveats in the documentation: http://pandas.pydata.org/pandas-docs/stable/indexing.html#indexing-view-versus-copy\n",
      "C:\\Users\\Dell\\Anaconda3\\lib\\site-packages\\ipykernel_launcher.py:21: SettingWithCopyWarning: \n",
      "A value is trying to be set on a copy of a slice from a DataFrame\n",
      "\n",
      "See the caveats in the documentation: http://pandas.pydata.org/pandas-docs/stable/indexing.html#indexing-view-versus-copy\n"
     ]
    }
   ],
   "source": [
    "#print(data.dtypes)\n",
    "\n",
    "m = np.mean(data[\"Glucose\"][data[\"Glucose\"] > 0])\n",
    "data[\"Glucose\"][data[\"Glucose\"] == 0] = m\n",
    "\n",
    "m = np.mean(data[\"Insulin\"][data[\"Insulin\"] > 0])\n",
    "data[\"Insulin\"][data[\"Insulin\"] == 0] = m\n",
    "\n",
    "m = np.mean(data[\"BloodPressure\"][data[\"BloodPressure\"] > 0])\n",
    "data[\"BloodPressure\"][data[\"BloodPressure\"] == 0] = m\n",
    "\n",
    "m = np.mean(data[\"BMI\"][data[\"BMI\"] > 0])\n",
    "data[\"BMI\"][data[\"BMI\"] == 0] = m\n",
    "\n",
    "\n",
    "m = np.mean(data[\"Age\"][data[\"Age\"] > 0])\n",
    "data[\"Age\"][data[\"Age\"] == 0] = m\n",
    "\n",
    "\n",
    "m = np.mean(data[\"SkinThickness\"][data[\"SkinThickness\"] > 0])\n",
    "data[\"SkinThickness\"][data[\"SkinThickness\"] == 0] = m\n",
    "\n",
    "\n",
    "\n",
    "\n",
    "\n",
    "print(data)"
   ]
  },
  {
   "cell_type": "code",
   "execution_count": 31,
   "metadata": {},
   "outputs": [
    {
     "name": "stdout",
     "output_type": "stream",
     "text": [
      "[[ 0.63953049  0.86454467 -0.03349641 ...  0.16618344  0.46818687\n",
      "   1.42506672]\n",
      " [-0.84433482 -1.20537602 -0.52951396 ... -0.85197596 -0.36482303\n",
      "  -0.19054773]\n",
      " [ 1.23307662  2.0145006  -0.69485314 ... -1.3319654   0.6040037\n",
      "  -0.10551539]\n",
      " ...\n",
      " [ 0.34275743 -0.0225642  -0.03349641 ... -0.9101565  -0.68474712\n",
      "  -0.27558007]\n",
      " [-0.84433482  0.14171522 -1.02553151 ... -0.34289626 -0.37085933\n",
      "   1.1699697 ]\n",
      " [-0.84433482 -0.94252895 -0.19883559 ... -0.29926086 -0.4734765\n",
      "  -0.87080644]]\n"
     ]
    }
   ],
   "source": [
    "\n",
    "y=data['Outcome']\n",
    "\n",
    "y=np.asarray(y)\n",
    "\n",
    "\n",
    "data.drop(['Outcome'], axis = 1, inplace = True)\n",
    "\n",
    "nd = (data - data.mean()) / data.std()\n",
    "\n",
    "x = np.asarray(nd,dtype=np.float64)\n",
    "print(x)"
   ]
  },
  {
   "cell_type": "code",
   "execution_count": 32,
   "metadata": {},
   "outputs": [],
   "source": [
    "from sklearn.model_selection import train_test_split\n",
    "xTrain, xTest, yTrain, yTest = train_test_split(x, y, test_size = 0.2, random_state = 0)"
   ]
  },
  {
   "cell_type": "code",
   "execution_count": 33,
   "metadata": {},
   "outputs": [],
   "source": [
    "from sklearn.neighbors import KNeighborsClassifier\n",
    "classifier = KNeighborsClassifier(n_neighbors=15)\n",
    "classifier.fit(xTrain, yTrain)\n",
    "y_pred = classifier.predict(xTest)"
   ]
  },
  {
   "cell_type": "code",
   "execution_count": 34,
   "metadata": {},
   "outputs": [
    {
     "name": "stdout",
     "output_type": "stream",
     "text": [
      "[[95 12]\n",
      " [15 32]]\n",
      "              precision    recall  f1-score   support\n",
      "\n",
      "           0       0.86      0.89      0.88       107\n",
      "           1       0.73      0.68      0.70        47\n",
      "\n",
      "   micro avg       0.82      0.82      0.82       154\n",
      "   macro avg       0.80      0.78      0.79       154\n",
      "weighted avg       0.82      0.82      0.82       154\n",
      "\n"
     ]
    }
   ],
   "source": [
    "from sklearn.metrics import classification_report, confusion_matrix\n",
    "print(confusion_matrix(yTest, y_pred))\n",
    "print(classification_report(yTest, y_pred))"
   ]
  },
  {
   "cell_type": "code",
   "execution_count": 35,
   "metadata": {},
   "outputs": [
    {
     "name": "stdout",
     "output_type": "stream",
     "text": [
      "0.8246753246753247\n"
     ]
    }
   ],
   "source": [
    "print(127.0/154)  "
   ]
  },
  {
   "cell_type": "code",
   "execution_count": 36,
   "metadata": {},
   "outputs": [
    {
     "name": "stderr",
     "output_type": "stream",
     "text": [
      "C:\\Users\\Dell\\Anaconda3\\lib\\site-packages\\sklearn\\svm\\base.py:196: FutureWarning: The default value of gamma will change from 'auto' to 'scale' in version 0.22 to account better for unscaled features. Set gamma explicitly to 'auto' or 'scale' to avoid this warning.\n",
      "  \"avoid this warning.\", FutureWarning)\n"
     ]
    }
   ],
   "source": [
    "from sklearn.model_selection import train_test_split\n",
    "xTrain, xTest, yTrain, yTest = train_test_split(x, y, test_size = 0.2, random_state = 0)\n",
    "from sklearn import svm\n",
    "clf=svm.SVC()\n",
    "clf.fit(xTrain, yTrain)\n",
    "y_pred2 = clf.predict(xTest)"
   ]
  },
  {
   "cell_type": "code",
   "execution_count": 37,
   "metadata": {},
   "outputs": [
    {
     "name": "stdout",
     "output_type": "stream",
     "text": [
      "[[94 13]\n",
      " [21 26]]\n",
      "              precision    recall  f1-score   support\n",
      "\n",
      "           0       0.82      0.88      0.85       107\n",
      "           1       0.67      0.55      0.60        47\n",
      "\n",
      "   micro avg       0.78      0.78      0.78       154\n",
      "   macro avg       0.74      0.72      0.73       154\n",
      "weighted avg       0.77      0.78      0.77       154\n",
      "\n"
     ]
    }
   ],
   "source": [
    "from sklearn.metrics import classification_report, confusion_matrix\n",
    "print(confusion_matrix(yTest, y_pred2))\n",
    "print(classification_report(yTest, y_pred2))\n"
   ]
  },
  {
   "cell_type": "code",
   "execution_count": 38,
   "metadata": {},
   "outputs": [
    {
     "name": "stdout",
     "output_type": "stream",
     "text": [
      "77.92207792207793\n"
     ]
    }
   ],
   "source": [
    "print((94.0+26.0)/(154)*100)"
   ]
  },
  {
   "cell_type": "code",
   "execution_count": null,
   "metadata": {},
   "outputs": [],
   "source": []
  }
 ],
 "metadata": {
  "kernelspec": {
   "display_name": "Python 3",
   "language": "python",
   "name": "python3"
  },
  "language_info": {
   "codemirror_mode": {
    "name": "ipython",
    "version": 3
   },
   "file_extension": ".py",
   "mimetype": "text/x-python",
   "name": "python",
   "nbconvert_exporter": "python",
   "pygments_lexer": "ipython3",
   "version": "3.7.3"
  }
 },
 "nbformat": 4,
 "nbformat_minor": 2
}
