{
 "cells": [
  {
   "cell_type": "code",
   "execution_count": 19,
   "metadata": {},
   "outputs": [
    {
     "data": {
      "text/html": [
       "<div>\n",
       "<style scoped>\n",
       "    .dataframe tbody tr th:only-of-type {\n",
       "        vertical-align: middle;\n",
       "    }\n",
       "\n",
       "    .dataframe tbody tr th {\n",
       "        vertical-align: top;\n",
       "    }\n",
       "\n",
       "    .dataframe thead th {\n",
       "        text-align: right;\n",
       "    }\n",
       "</style>\n",
       "<table border=\"1\" class=\"dataframe\">\n",
       "  <thead>\n",
       "    <tr style=\"text-align: right;\">\n",
       "      <th></th>\n",
       "      <th>fixed acidity</th>\n",
       "      <th>volatile acidity</th>\n",
       "      <th>citric acid</th>\n",
       "      <th>residual sugar</th>\n",
       "      <th>chlorides</th>\n",
       "      <th>free sulfur dioxide</th>\n",
       "      <th>total sulfur dioxide</th>\n",
       "      <th>density</th>\n",
       "      <th>pH</th>\n",
       "      <th>sulphates</th>\n",
       "      <th>alcohol</th>\n",
       "      <th>quality</th>\n",
       "    </tr>\n",
       "  </thead>\n",
       "  <tbody>\n",
       "    <tr>\n",
       "      <th>0</th>\n",
       "      <td>7.0</td>\n",
       "      <td>0.27</td>\n",
       "      <td>0.36</td>\n",
       "      <td>20.7</td>\n",
       "      <td>0.045</td>\n",
       "      <td>45.0</td>\n",
       "      <td>170.0</td>\n",
       "      <td>1.0010</td>\n",
       "      <td>3.00</td>\n",
       "      <td>0.45</td>\n",
       "      <td>8.8</td>\n",
       "      <td>6</td>\n",
       "    </tr>\n",
       "    <tr>\n",
       "      <th>1</th>\n",
       "      <td>6.3</td>\n",
       "      <td>0.30</td>\n",
       "      <td>0.34</td>\n",
       "      <td>1.6</td>\n",
       "      <td>0.049</td>\n",
       "      <td>14.0</td>\n",
       "      <td>132.0</td>\n",
       "      <td>0.9940</td>\n",
       "      <td>3.30</td>\n",
       "      <td>0.49</td>\n",
       "      <td>9.5</td>\n",
       "      <td>6</td>\n",
       "    </tr>\n",
       "    <tr>\n",
       "      <th>2</th>\n",
       "      <td>8.1</td>\n",
       "      <td>0.28</td>\n",
       "      <td>0.40</td>\n",
       "      <td>6.9</td>\n",
       "      <td>0.050</td>\n",
       "      <td>30.0</td>\n",
       "      <td>97.0</td>\n",
       "      <td>0.9951</td>\n",
       "      <td>3.26</td>\n",
       "      <td>0.44</td>\n",
       "      <td>10.1</td>\n",
       "      <td>6</td>\n",
       "    </tr>\n",
       "    <tr>\n",
       "      <th>3</th>\n",
       "      <td>7.2</td>\n",
       "      <td>0.23</td>\n",
       "      <td>0.32</td>\n",
       "      <td>8.5</td>\n",
       "      <td>0.058</td>\n",
       "      <td>47.0</td>\n",
       "      <td>186.0</td>\n",
       "      <td>0.9956</td>\n",
       "      <td>3.19</td>\n",
       "      <td>0.40</td>\n",
       "      <td>9.9</td>\n",
       "      <td>6</td>\n",
       "    </tr>\n",
       "    <tr>\n",
       "      <th>4</th>\n",
       "      <td>7.2</td>\n",
       "      <td>0.23</td>\n",
       "      <td>0.32</td>\n",
       "      <td>8.5</td>\n",
       "      <td>0.058</td>\n",
       "      <td>47.0</td>\n",
       "      <td>186.0</td>\n",
       "      <td>0.9956</td>\n",
       "      <td>3.19</td>\n",
       "      <td>0.40</td>\n",
       "      <td>9.9</td>\n",
       "      <td>6</td>\n",
       "    </tr>\n",
       "  </tbody>\n",
       "</table>\n",
       "</div>"
      ],
      "text/plain": [
       "   fixed acidity  volatile acidity  citric acid  residual sugar  chlorides  \\\n",
       "0            7.0              0.27         0.36            20.7      0.045   \n",
       "1            6.3              0.30         0.34             1.6      0.049   \n",
       "2            8.1              0.28         0.40             6.9      0.050   \n",
       "3            7.2              0.23         0.32             8.5      0.058   \n",
       "4            7.2              0.23         0.32             8.5      0.058   \n",
       "\n",
       "   free sulfur dioxide  total sulfur dioxide  density    pH  sulphates  \\\n",
       "0                 45.0                 170.0   1.0010  3.00       0.45   \n",
       "1                 14.0                 132.0   0.9940  3.30       0.49   \n",
       "2                 30.0                  97.0   0.9951  3.26       0.44   \n",
       "3                 47.0                 186.0   0.9956  3.19       0.40   \n",
       "4                 47.0                 186.0   0.9956  3.19       0.40   \n",
       "\n",
       "   alcohol  quality  \n",
       "0      8.8        6  \n",
       "1      9.5        6  \n",
       "2     10.1        6  \n",
       "3      9.9        6  \n",
       "4      9.9        6  "
      ]
     },
     "execution_count": 19,
     "metadata": {},
     "output_type": "execute_result"
    }
   ],
   "source": [
    "import matplotlib.pyplot as plt \n",
    "import pandas as pd \n",
    "import numpy as np \n",
    "import sklearn\n",
    "  \n",
    "white = pd.read_csv(\"http://archive.ics.uci.edu/ml/machine-learning-databases/wine-quality/winequality-white.csv\", sep =';') \n",
    "white.head()  "
   ]
  },
  {
   "cell_type": "code",
   "execution_count": 20,
   "metadata": {},
   "outputs": [],
   "source": [
    "white=white.mask(white==0).fillna(white.mean())"
   ]
  },
  {
   "cell_type": "code",
   "execution_count": 21,
   "metadata": {},
   "outputs": [
    {
     "name": "stdout",
     "output_type": "stream",
     "text": [
      "fixed acidity           float64\n",
      "volatile acidity        float64\n",
      "citric acid             float64\n",
      "residual sugar          float64\n",
      "chlorides               float64\n",
      "free sulfur dioxide     float64\n",
      "total sulfur dioxide    float64\n",
      "density                 float64\n",
      "pH                      float64\n",
      "sulphates               float64\n",
      "alcohol                 float64\n",
      "quality                   int64\n",
      "dtype: object\n"
     ]
    }
   ],
   "source": [
    "print(white.dtypes)"
   ]
  },
  {
   "cell_type": "code",
   "execution_count": 22,
   "metadata": {},
   "outputs": [
    {
     "name": "stdout",
     "output_type": "stream",
     "text": [
      "[[ 1.72096961e-01 -8.17699008e-02  2.05644049e-01 ... -1.24692128e+00\n",
      "  -3.49184257e-01 -1.39315246e+00]\n",
      " [-6.57501128e-01  2.15895632e-01  3.78543571e-02 ...  7.40028640e-01\n",
      "   1.34184656e-03 -8.24275678e-01]\n",
      " [ 1.47575110e+00  1.74519434e-02  5.41223433e-01 ...  4.75101984e-01\n",
      "  -4.36815783e-01 -3.36667007e-01]\n",
      " ...\n",
      " [-4.20473102e-01 -3.79435433e-01 -1.22056833e+00 ... -1.31315295e+00\n",
      "  -2.61552731e-01 -9.05543789e-01]\n",
      " [-1.60561323e+00  1.16673788e-01 -2.97725027e-01 ...  1.00495530e+00\n",
      "  -9.62604939e-01  1.85757201e+00]\n",
      " [-1.01304317e+00 -6.77100966e-01  3.73433741e-01 ...  4.75101984e-01\n",
      "  -1.48839409e+00  1.04489089e+00]]\n"
     ]
    }
   ],
   "source": [
    "from sklearn.model_selection import train_test_split\n",
    "y1=white[\"quality\"]\n",
    "y = np.asarray(y1)\n",
    "\n",
    "y=y.reshape(-1,1)\n",
    "white.drop([\"quality\"], axis = 1, inplace = True)\n",
    "x = np.asarray(white,dtype=np.float64)\n",
    "\n",
    "from sklearn.preprocessing import StandardScaler\n",
    "sc = StandardScaler()\n",
    "x = sc.fit_transform(x)\n",
    "print(x)"
   ]
  },
  {
   "cell_type": "code",
   "execution_count": 23,
   "metadata": {},
   "outputs": [],
   "source": [
    "x_train, x_test, y_train, y_test = train_test_split(x, y, test_size=0.2, random_state=0)"
   ]
  },
  {
   "cell_type": "code",
   "execution_count": 24,
   "metadata": {},
   "outputs": [],
   "source": [
    "#using KNN classifier"
   ]
  },
  {
   "cell_type": "code",
   "execution_count": 25,
   "metadata": {},
   "outputs": [
    {
     "name": "stderr",
     "output_type": "stream",
     "text": [
      "/home/sagar24/.local/lib/python2.7/site-packages/ipykernel_launcher.py:8: DataConversionWarning: A column-vector y was passed when a 1d array was expected. Please change the shape of y to (n_samples, ), for example using ravel().\n",
      "  \n"
     ]
    },
    {
     "name": "stdout",
     "output_type": "stream",
     "text": [
      "('Accuracy:', 3, '  ', 0.536734693877551)\n",
      "('Accuracy:', 4, '  ', 0.5346938775510204)\n",
      "('Accuracy:', 5, '  ', 0.5387755102040817)\n",
      "('Accuracy:', 6, '  ', 0.5346938775510204)\n",
      "('Accuracy:', 7, '  ', 0.5326530612244897)\n",
      "('Accuracy:', 8, '  ', 0.5387755102040817)\n",
      "('Accuracy:', 9, '  ', 0.5377551020408163)\n",
      "('Accuracy:', 10, '  ', 0.5316326530612245)\n",
      "('Accuracy:', 11, '  ', 0.5275510204081633)\n",
      "('Accuracy:', 12, '  ', 0.539795918367347)\n",
      "('Accuracy:', 13, '  ', 0.5244897959183673)\n",
      "('Accuracy:', 14, '  ', 0.5183673469387755)\n",
      "('Accuracy:', 15, '  ', 0.523469387755102)\n",
      "('Accuracy:', 16, '  ', 0.5285714285714286)\n",
      "('Accuracy:', 17, '  ', 0.5224489795918368)\n",
      "('Accuracy:', 18, '  ', 0.5357142857142857)\n",
      "('Accuracy:', 19, '  ', 0.523469387755102)\n",
      "('Accuracy:', 20, '  ', 0.5265306122448979)\n",
      "('Accuracy:', 21, '  ', 0.5295918367346939)\n",
      "('Accuracy:', 22, '  ', 0.5255102040816326)\n",
      "('Accuracy:', 23, '  ', 0.5316326530612245)\n",
      "('Accuracy:', 24, '  ', 0.5306122448979592)\n",
      "('Accuracy:', 25, '  ', 0.5285714285714286)\n",
      "('Accuracy:', 26, '  ', 0.5326530612244897)\n",
      "('Accuracy:', 27, '  ', 0.523469387755102)\n",
      "('Accuracy:', 28, '  ', 0.5316326530612245)\n",
      "('Accuracy:', 29, '  ', 0.5295918367346939)\n",
      "('Accuracy:', 30, '  ', 0.5306122448979592)\n",
      "('Accuracy:', 31, '  ', 0.5285714285714286)\n",
      "('Accuracy:', 32, '  ', 0.5306122448979592)\n",
      "('Accuracy:', 33, '  ', 0.5316326530612245)\n",
      "('Accuracy:', 34, '  ', 0.5295918367346939)\n",
      "('Accuracy:', 35, '  ', 0.5316326530612245)\n",
      "('Accuracy:', 36, '  ', 0.5295918367346939)\n",
      "('Accuracy:', 37, '  ', 0.5336734693877551)\n",
      "('Accuracy:', 38, '  ', 0.5336734693877551)\n",
      "('Accuracy:', 39, '  ', 0.5306122448979592)\n",
      "('Accuracy:', 40, '  ', 0.5326530612244897)\n",
      "('Accuracy:', 41, '  ', 0.5316326530612245)\n",
      "('Accuracy:', 42, '  ', 0.5295918367346939)\n",
      "('Accuracy:', 43, '  ', 0.5265306122448979)\n",
      "('Accuracy:', 44, '  ', 0.5193877551020408)\n",
      "('Accuracy:', 45, '  ', 0.5183673469387755)\n",
      "('Accuracy:', 46, '  ', 0.5224489795918368)\n",
      "('Accuracy:', 47, '  ', 0.5163265306122449)\n",
      "('Accuracy:', 48, '  ', 0.5204081632653061)\n",
      "('Accuracy:', 49, '  ', 0.5183673469387755)\n",
      "('Accuracy:', 50, '  ', 0.5173469387755102)\n",
      "('Accuracy:', 51, '  ', 0.5091836734693878)\n",
      "('Accuracy:', 52, '  ', 0.5183673469387755)\n",
      "('Accuracy:', 53, '  ', 0.513265306122449)\n",
      "('Accuracy:', 54, '  ', 0.5173469387755102)\n",
      "('Accuracy:', 55, '  ', 0.5102040816326531)\n",
      "('Accuracy:', 56, '  ', 0.5102040816326531)\n",
      "('Accuracy:', 57, '  ', 0.5102040816326531)\n",
      "('Accuracy:', 58, '  ', 0.5163265306122449)\n",
      "('Accuracy:', 59, '  ', 0.5102040816326531)\n",
      "('Accuracy:', 60, '  ', 0.5091836734693878)\n",
      "('Accuracy:', 61, '  ', 0.5112244897959184)\n",
      "('Accuracy:', 62, '  ', 0.5122448979591837)\n",
      "('Accuracy:', 63, '  ', 0.5081632653061224)\n",
      "('Accuracy:', 64, '  ', 0.5122448979591837)\n",
      "('Accuracy:', 65, '  ', 0.5112244897959184)\n",
      "('Accuracy:', 66, '  ', 0.5112244897959184)\n",
      "('Accuracy:', 67, '  ', 0.5081632653061224)\n",
      "('Accuracy:', 68, '  ', 0.5061224489795918)\n",
      "('Accuracy:', 69, '  ', 0.5051020408163265)\n",
      "('Accuracy:', 70, '  ', 0.5040816326530613)\n",
      "('Accuracy:', 71, '  ', 0.5040816326530613)\n",
      "('Accuracy:', 72, '  ', 0.5061224489795918)\n",
      "('Accuracy:', 73, '  ', 0.5040816326530613)\n",
      "('Accuracy:', 74, '  ', 0.5)\n",
      "('Accuracy:', 75, '  ', 0.4989795918367347)\n",
      "('Accuracy:', 76, '  ', 0.5)\n",
      "('Accuracy:', 77, '  ', 0.5020408163265306)\n",
      "('Accuracy:', 78, '  ', 0.5010204081632653)\n",
      "('Accuracy:', 79, '  ', 0.4989795918367347)\n",
      "('Accuracy:', 80, '  ', 0.4969387755102041)\n",
      "('Accuracy:', 81, '  ', 0.4959183673469388)\n",
      "('Accuracy:', 82, '  ', 0.503061224489796)\n",
      "('Accuracy:', 83, '  ', 0.49489795918367346)\n",
      "('Accuracy:', 84, '  ', 0.49489795918367346)\n",
      "('Accuracy:', 85, '  ', 0.49183673469387756)\n",
      "('Accuracy:', 86, '  ', 0.49795918367346936)\n",
      "('Accuracy:', 87, '  ', 0.4928571428571429)\n",
      "('Accuracy:', 88, '  ', 0.4969387755102041)\n",
      "('Accuracy:', 89, '  ', 0.49489795918367346)\n",
      "('Accuracy:', 90, '  ', 0.49183673469387756)\n",
      "('Accuracy:', 91, '  ', 0.49183673469387756)\n",
      "('Accuracy:', 92, '  ', 0.49081632653061225)\n",
      "('Accuracy:', 93, '  ', 0.4897959183673469)\n",
      "('Accuracy:', 94, '  ', 0.4897959183673469)\n",
      "('Accuracy:', 95, '  ', 0.49081632653061225)\n",
      "('Accuracy:', 96, '  ', 0.5)\n",
      "('Accuracy:', 97, '  ', 0.49795918367346936)\n",
      "('Accuracy:', 98, '  ', 0.503061224489796)\n",
      "('Accuracy:', 99, '  ', 0.5020408163265306)\n"
     ]
    },
    {
     "data": {
      "image/png": "[encoded data removed]",
      "text/plain": [
       "<Figure size 432x288 with 1 Axes>"
      ]
     },
     "metadata": {
      "needs_background": "light"
     },
     "output_type": "display_data"
    },
    {
     "name": "stdout",
     "output_type": "stream",
     "text": [
      "12\n"
     ]
    }
   ],
   "source": [
    "from sklearn.neighbors import KNeighborsClassifier\n",
    "from sklearn import metrics\n",
    "import matplotlib.pyplot as plt\n",
    "accuracy=0\n",
    "n=3\n",
    "for i in range (3,100):\n",
    "    classifier = KNeighborsClassifier(n_neighbors=i)\n",
    "    classifier.fit(x_train, y_train)\n",
    "    y_pred1 = classifier.predict(x_test)\n",
    "    print(\"Accuracy:\",i,\"  \",metrics.accuracy_score(y_test,y_pred1))\n",
    "    if metrics.accuracy_score(y_test,y_pred1)>accuracy:\n",
    "        accuracy=metrics.accuracy_score(y_test,y_pred1)\n",
    "        n=i\n",
    "    plt.plot(i,metrics.accuracy_score(y_test,y_pred1),marker='o', color='mediumvioletred')\n",
    "plt.show()\n",
    "print(n)"
   ]
  },
  {
   "cell_type": "code",
   "execution_count": 27,
   "metadata": {},
   "outputs": [
    {
     "name": "stdout",
     "output_type": "stream",
     "text": [
      "('Accuracy:', 53.9795918367347)\n",
      "[[  0   0   3   5   1   0]\n",
      " [  0   2  30  18   1   0]\n",
      " [  0   2 189  94  10   0]\n",
      " [  0   0  89 268  48   4]\n",
      " [  0   0  12  99  70   2]\n",
      " [  0   0   2  18  13   0]]\n"
     ]
    },
    {
     "name": "stderr",
     "output_type": "stream",
     "text": [
      "/home/sagar24/.local/lib/python2.7/site-packages/ipykernel_launcher.py:2: DataConversionWarning: A column-vector y was passed when a 1d array was expected. Please change the shape of y to (n_samples, ), for example using ravel().\n",
      "  \n"
     ]
    }
   ],
   "source": [
    "classifier = KNeighborsClassifier(n_neighbors=n)\n",
    "classifier.fit(x_train, y_train)\n",
    "y_pred1 = classifier.predict(x_test)\n",
    "print(\"Accuracy:\",100*metrics.accuracy_score(y_test,y_pred1))\n",
    "from sklearn.metrics import confusion_matrix\n",
    "print(confusion_matrix(y_test,y_pred1))"
   ]
  },
  {
   "cell_type": "code",
   "execution_count": 28,
   "metadata": {},
   "outputs": [],
   "source": [
    "#using decision trees"
   ]
  },
  {
   "cell_type": "code",
   "execution_count": 29,
   "metadata": {},
   "outputs": [
    {
     "name": "stdout",
     "output_type": "stream",
     "text": [
      "('Accuracy:', 57.6530612244898)\n",
      "[[  0   1   4   2   2   0]\n",
      " [  2   7  19  19   4   0]\n",
      " [  2  11 186  74  21   1]\n",
      " [  3   3  82 257  53  11]\n",
      " [  0   1  15  55 106   6]\n",
      " [  0   2   3   7  12   9]]\n"
     ]
    }
   ],
   "source": [
    "from sklearn.tree import DecisionTreeClassifier\n",
    "dt = DecisionTreeClassifier()\n",
    "dt.fit(x_train,y_train)\n",
    "y_pred2 = dt.predict(x_test)\n",
    "print(\"Accuracy:\",100*metrics.accuracy_score(y_test,y_pred2))\n",
    "print(confusion_matrix(y_test,y_pred2))"
   ]
  },
  {
   "cell_type": "code",
   "execution_count": 30,
   "metadata": {},
   "outputs": [],
   "source": [
    "#using random forest"
   ]
  },
  {
   "cell_type": "code",
   "execution_count": 31,
   "metadata": {},
   "outputs": [
    {
     "name": "stdout",
     "output_type": "stream",
     "text": [
      "('Accuracy:', 62.04081632653061)\n",
      "[[  0   0   4   5   0   0]\n",
      " [  0   8  23  18   2   0]\n",
      " [  0   3 194  92   6   0]\n",
      " [  0   2  66 315  26   0]\n",
      " [  0   0   6  91  84   2]\n",
      " [  0   0   1  17   8   7]]\n"
     ]
    },
    {
     "name": "stderr",
     "output_type": "stream",
     "text": [
      "/usr/local/lib/python2.7/dist-packages/sklearn/ensemble/forest.py:246: FutureWarning: The default value of n_estimators will change from 10 in version 0.20 to 100 in 0.22.\n",
      "  \"10 in version 0.20 to 100 in 0.22.\", FutureWarning)\n",
      "/home/sagar24/.local/lib/python2.7/site-packages/ipykernel_launcher.py:3: DataConversionWarning: A column-vector y was passed when a 1d array was expected. Please change the shape of y to (n_samples,), for example using ravel().\n",
      "  This is separate from the ipykernel package so we can avoid doing imports until\n"
     ]
    }
   ],
   "source": [
    "from sklearn.ensemble import RandomForestClassifier\n",
    "rf = RandomForestClassifier()\n",
    "rf.fit(x_train, y_train)\n",
    "y_pred3=rf.predict(x_test)\n",
    "print(\"Accuracy:\",100*metrics.accuracy_score(y_test,y_pred3))\n",
    "print(confusion_matrix(y_test,y_pred3))"
   ]
  },
  {
   "cell_type": "code",
   "execution_count": 32,
   "metadata": {},
   "outputs": [],
   "source": [
    "#using SVM classifier"
   ]
  },
  {
   "cell_type": "code",
   "execution_count": 33,
   "metadata": {},
   "outputs": [
    {
     "name": "stderr",
     "output_type": "stream",
     "text": [
      "/usr/local/lib/python2.7/dist-packages/sklearn/utils/validation.py:761: DataConversionWarning: A column-vector y was passed when a 1d array was expected. Please change the shape of y to (n_samples, ), for example using ravel().\n",
      "  y = column_or_1d(y, warn=True)\n",
      "/usr/local/lib/python2.7/dist-packages/sklearn/svm/base.py:196: FutureWarning: The default value of gamma will change from 'auto' to 'scale' in version 0.22 to account better for unscaled features. Set gamma explicitly to 'auto' or 'scale' to avoid this warning.\n",
      "  \"avoid this warning.\", FutureWarning)\n"
     ]
    },
    {
     "name": "stdout",
     "output_type": "stream",
     "text": [
      "('Accuracy:', 53.775510204081634)\n",
      "[[  0   0   6   3   0   0]\n",
      " [  0   0  31  20   0   0]\n",
      " [  0   0 164 131   0   0]\n",
      " [  0   0  74 318  17   0]\n",
      " [  0   0   7 131  45   0]\n",
      " [  0   0   0  23  10   0]]\n"
     ]
    }
   ],
   "source": [
    "from sklearn import svm\n",
    "clf=svm.SVC()\n",
    "clf.fit(x_train, y_train)\n",
    "y_pred4 = clf.predict(x_test)\n",
    "print(\"Accuracy:\",100*metrics.accuracy_score(y_test,y_pred4))\n",
    "print(confusion_matrix(y_test,y_pred4))"
   ]
  },
  {
   "cell_type": "code",
   "execution_count": 34,
   "metadata": {},
   "outputs": [],
   "source": [
    "#using Naive Bayes"
   ]
  },
  {
   "cell_type": "code",
   "execution_count": 35,
   "metadata": {},
   "outputs": [
    {
     "name": "stdout",
     "output_type": "stream",
     "text": [
      "('Accuracy:', 44.08163265306123)\n",
      "[[  3   3   0   2   1   0]\n",
      " [  1  10  17  18   5   0]\n",
      " [  2  11 151 105  26   0]\n",
      " [  6   4 105 150 143   1]\n",
      " [  0   0  18  45 117   3]\n",
      " [  0   0   1  12  19   1]]\n"
     ]
    }
   ],
   "source": [
    "from sklearn.naive_bayes import GaussianNB\n",
    "nb = GaussianNB()\n",
    "nb.fit(x_train,y_train)\n",
    "y_pred5=nb.predict(x_test)\n",
    "print(\"Accuracy:\",100*metrics.accuracy_score(y_test,y_pred5))\n",
    "print(confusion_matrix(y_test,y_pred5))"
   ]
  },
  {
   "cell_type": "code",
   "execution_count": null,
   "metadata": {},
   "outputs": [],
   "source": []
  }
 ],
 "metadata": {
  "kernelspec": {
   "display_name": "Python 3",
   "language": "python",
   "name": "python3"
  },
  "language_info": {
   "codemirror_mode": {
    "name": "ipython",
    "version": 2
   },
   "file_extension": ".py",
   "mimetype": "text/x-python",
   "name": "python",
   "nbconvert_exporter": "python",
   "pygments_lexer": "ipython2",
   "version": "2.7.15+"
  }
 },
 "nbformat": 4,
 "nbformat_minor": 2
}
